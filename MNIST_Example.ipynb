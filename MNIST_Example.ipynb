{
  "nbformat": 4,
  "nbformat_minor": 0,
  "metadata": {
    "colab": {
      "name": "MNIST_Example.ipynb",
      "provenance": []
    },
    "kernelspec": {
      "name": "python3",
      "display_name": "Python 3"
    },
    "language_info": {
      "name": "python"
    }
  },
  "cells": [
    {
      "cell_type": "code",
      "metadata": {
        "id": "VGrtset836Wj"
      },
      "source": [
        "## This notebook is based on https://www.tensorflow.org/tutorials/quickstart/beginner and https://www.tensorflow.org/tutorials/keras/classification\n",
        "import tensorflow as tf\n",
        "import numpy as np"
      ],
      "execution_count": 47,
      "outputs": []
    },
    {
      "cell_type": "code",
      "metadata": {
        "colab": {
          "base_uri": "https://localhost:8080/"
        },
        "id": "aRlo5Qjk4j1q",
        "outputId": "2dcde7d2-9561-4778-8089-24cf9f00bceb"
      },
      "source": [
        "# load mnist data set\n",
        "(x_train, y_train), (x_test, y_test) = tf.keras.datasets.mnist.load_data()\n",
        "print('datatype before scaling is ',x_train.dtype)\n",
        "\n",
        "# Rescale the images from [0,255] to the [0.0,1.0] range (uint8 to float64)\n",
        "x_train, x_test = x_train[..., np.newaxis]/255.0, x_test[..., np.newaxis]/255.0\n",
        "print('datatype after scaling  is ',x_train.dtype)"
      ],
      "execution_count": 48,
      "outputs": [
        {
          "output_type": "stream",
          "text": [
            "datatype before scaling is  uint8\n",
            "datatype after scaling  is  float64\n"
          ],
          "name": "stdout"
        }
      ]
    },
    {
      "cell_type": "code",
      "metadata": {
        "colab": {
          "base_uri": "https://localhost:8080/"
        },
        "id": "d0hjbmoP5m75",
        "outputId": "52af57f2-748c-4532-ee14-1271bab9f2c4"
      },
      "source": [
        "# define the nerual network (fully connected network)\n",
        "model = tf.keras.models.Sequential([\n",
        "  tf.keras.layers.Flatten(input_shape=(28, 28)),\n",
        "  tf.keras.layers.Dense(128,activation='relu'),\n",
        "  tf.keras.layers.BatchNormalization(),\n",
        "  tf.keras.layers.Dense(32,activation='relu'),\n",
        "  tf.keras.layers.Dense(10)                     # you may use softmax here, but it's not required when you use Categorical Cross Entropy\n",
        "])\n",
        "model.compile(\n",
        "    optimizer=tf.keras.optimizers.Adam(0.001),\n",
        "    loss=tf.keras.losses.SparseCategoricalCrossentropy(from_logits=True), # Using from_logits=True may be more numerically stable (should be set when you didn't use softmax activation)\n",
        "    metrics=[tf.keras.metrics.SparseCategoricalAccuracy()],\n",
        ")\n",
        "model.summary()"
      ],
      "execution_count": 68,
      "outputs": [
        {
          "output_type": "stream",
          "text": [
            "Model: \"sequential_12\"\n",
            "_________________________________________________________________\n",
            "Layer (type)                 Output Shape              Param #   \n",
            "=================================================================\n",
            "flatten_13 (Flatten)         (None, 784)               0         \n",
            "_________________________________________________________________\n",
            "dense_40 (Dense)             (None, 128)               100480    \n",
            "_________________________________________________________________\n",
            "batch_normalization_4 (Batch (None, 128)               512       \n",
            "_________________________________________________________________\n",
            "dense_41 (Dense)             (None, 32)                4128      \n",
            "_________________________________________________________________\n",
            "dense_42 (Dense)             (None, 10)                330       \n",
            "=================================================================\n",
            "Total params: 105,450\n",
            "Trainable params: 105,194\n",
            "Non-trainable params: 256\n",
            "_________________________________________________________________\n"
          ],
          "name": "stdout"
        }
      ]
    },
    {
      "cell_type": "code",
      "metadata": {
        "id": "QdzIWxVi5otI"
      },
      "source": [
        "model.fit(\n",
        "    x_train,y_train,\n",
        "    epochs=100,\n",
        "    batch_size=128,\n",
        "    validation_data=(x_test, y_test),\n",
        ")"
      ],
      "execution_count": null,
      "outputs": []
    },
    {
      "cell_type": "code",
      "metadata": {
        "colab": {
          "base_uri": "https://localhost:8080/"
        },
        "id": "hGrNfX_57Vbe",
        "outputId": "a2179068-8192-40bc-ef72-03209fe5efe5"
      },
      "source": [
        "cnn_results = model.evaluate(x_test, y_test)"
      ],
      "execution_count": 72,
      "outputs": [
        {
          "output_type": "stream",
          "text": [
            "313/313 [==============================] - 0s 1ms/step - loss: 0.1592 - sparse_categorical_accuracy: 0.9839\n"
          ],
          "name": "stdout"
        }
      ]
    },
    {
      "cell_type": "code",
      "metadata": {
        "colab": {
          "base_uri": "https://localhost:8080/",
          "height": 281
        },
        "id": "dxwKZwvY7alP",
        "outputId": "fd16930b-3e3e-46df-cf40-65c37ab2a716"
      },
      "source": [
        "import matplotlib.pyplot as plt\n",
        "index_show = 12\n",
        "plt.figure()\n",
        "plt.imshow(np.squeeze(x_test[index_show]))\n",
        "plt.colorbar()\n",
        "plt.grid(False)\n",
        "plt.title(y_test[index_show])\n",
        "plt.show()"
      ],
      "execution_count": 74,
      "outputs": [
        {
          "output_type": "display_data",
          "data": {
            "image/png": "[encoded data removed]",
            "text/plain": [
              "<Figure size 432x288 with 2 Axes>"
            ]
          },
          "metadata": {
            "tags": [],
            "needs_background": "light"
          }
        }
      ]
    },
    {
      "cell_type": "code",
      "metadata": {
        "id": "ezDI8jGc7gJw"
      },
      "source": [
        ""
      ],
      "execution_count": null,
      "outputs": []
    }
  ]
}